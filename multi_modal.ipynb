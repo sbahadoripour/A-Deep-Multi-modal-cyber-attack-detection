{
 "cells": [
  {
   "cell_type": "code",
   "execution_count": 88,
   "id": "a66ab06e",
   "metadata": {},
   "outputs": [],
   "source": [
    "import numpy as np\n",
    "import pandas as pd\n",
    "from sklearn.model_selection import train_test_split\n",
    "from sklearn.preprocessing import MinMaxScaler, LabelEncoder\n",
    "from sklearn.impute import SimpleImputer\n",
    "from sklearn.metrics import classification_report\n",
    "from tensorflow.keras import layers\n",
    "from tensorflow.keras.utils import to_categorical\n",
    "import matplotlib.pyplot as plt\n",
    "from tensorflow.keras.models import Model"
   ]
  },
  {
   "cell_type": "code",
   "execution_count": 4,
   "id": "1eae1603",
   "metadata": {},
   "outputs": [],
   "source": [
    "np_load_old = np.load\n",
    "\n",
    "# modify the default parameters of np.load\n",
    "np.load = lambda *a,**k: np_load_old(*a, allow_pickle=True, **k)"
   ]
  },
  {
   "cell_type": "code",
   "execution_count": 5,
   "id": "65f0e3c4",
   "metadata": {},
   "outputs": [],
   "source": [
    "def cf(y_true, y_pred, fname, title):\n",
    "    '''\n",
    "    Create a confusion matrix plot save it into a file\n",
    "    Inputs:\n",
    "    y_true: actual labels\n",
    "    y_pred: prediction labels\n",
    "    fname: file name\n",
    "    title: title of the plot\n",
    "    Outputs:\n",
    "    None\n",
    "    '''\n",
    "    cm = confusion_matrix(y_true, y_pred, labels=np.unique(y_true))\n",
    "    cm_sum = np.sum(cm, axis=1, keepdims=True)\n",
    "    cm_perc = cm / cm_sum.astype(float) * 100\n",
    "    annot = np.empty_like(cm).astype(str)\n",
    "    nrows, ncols = cm.shape\n",
    "    for i in range(nrows):\n",
    "        for j in range(ncols):\n",
    "            c = cm[i, j]\n",
    "            p = cm_perc[i, j]\n",
    "            if i == j:\n",
    "                s = cm_sum[i]\n",
    "                annot[i, j] = '%.1f%%\\n%d/%d' % (p, c, s)\n",
    "            elif c == 0:\n",
    "                annot[i, j] = '0'\n",
    "            else:\n",
    "                annot[i, j] = '%.1f%%\\n%d' % (p, c)\n",
    "    cm = pd.DataFrame(cm, index=np.unique(y_true), columns=np.unique(y_true))\n",
    "    cm.index.name = 'Actual'\n",
    "    cm.columns.name = 'Predicted'\n",
    "    ax = sns.heatmap(cm, cmap= \"Blues\", annot=annot, fmt='')\n",
    "    ax.set_title(title);\n",
    "    ax.xaxis.set_ticklabels(['Normal','Attack'])\n",
    "    ax.yaxis.set_ticklabels(['Normal','Attack'])\n",
    "    plt.savefig(fname, dpi=300)\n",
    "    plt.show()"
   ]
  },
  {
   "cell_type": "code",
   "execution_count": 6,
   "id": "38c59bce",
   "metadata": {},
   "outputs": [],
   "source": [
    "def preproc(X, y):\n",
    "    '''\n",
    "    Pre-process the data\n",
    "    Inputs: \n",
    "    X: input features\n",
    "    y: input labels\n",
    "    Outputs:\n",
    "    X_train: training samples\n",
    "    X_val: validation samples\n",
    "    X_test: testing samples \n",
    "    y_train: training labels\n",
    "    y_val: validation labels\n",
    "    y_test: testing labels\n",
    "    \n",
    "    '''\n",
    "    # split the data into train, validation, and test sets\n",
    "    X_dev, X_test, y_dev, y_test = train_test_split( X, y, stratify = y, test_size = 0.2) # Split the data into test and development sets\n",
    "    X_train, X_val, y_train, y_val = train_test_split( X_dev, y_dev, stratify = y_dev, test_size = 0.2) #split the development set into the train and validation\n",
    "    \n",
    "    # handle missing values\n",
    "    imputer = SimpleImputer(missing_values = np.NaN , strategy= 'mean') # Define the imputer with mean strategy\n",
    "    X_train = imputer.fit_transform(X_train) # Fit the imputer on the training data and transfer it\n",
    "    X_val = imputer.transform(X_val) # Transform the validation data using the imputer\n",
    "    X_test = imputer.transform(X_test) # Transform the testing data using the imputer\n",
    "    \n",
    "    # normalize the data\n",
    "    scaler = MinMaxScaler()   # Define the scaler\n",
    "    X_train = scaler.fit_transform(X_train)   # Fit the scaler on the data\n",
    "    X_val = scaler.transform(X_val)   # Apply the trained scaler on the validation data\n",
    "    X_test = scaler.transform(X_test)   # Apply the trained scaler on the test data\n",
    "    \n",
    "    return X_train, X_val, X_test, y_train, y_val, y_test"
   ]
  },
  {
   "cell_type": "code",
   "execution_count": 7,
   "id": "005c5229",
   "metadata": {},
   "outputs": [],
   "source": [
    "def rep_learning(X, rep = 8):\n",
    "    '''\n",
    "    This function defines an autoencoder representation learning model\n",
    "    Inputs:\n",
    "    X: input features\n",
    "    rep: new representation dims\n",
    "    Outputs:\n",
    "    model: encoder of the autoencoder\n",
    "    \n",
    "    '''\n",
    "    #Encoder part\n",
    "    input_X= Input(shape = (X.shape[1],)) # Input shape of the data\n",
    "    encoded = Dense(units = 200, activation = 'tanh')(input_X)\n",
    "    encoded = Dense(units = 64, activation = 'tanh')(encoded)\n",
    "    encoded = Dense(units = rep, activation = 'tanh')(encoded) # Representation layer\n",
    "    #Decoder part\n",
    "    decoded = Dense(units = 64, activation = 'tanh')(encoded)\n",
    "    decoded = Dense(units = 200, activation = 'tanh')(encoded)\n",
    "    decoded = Dense(units = X.shape[1], activation = 'tanh')(decoded)\n",
    "    \n",
    "    autoencoder = Model(input_X, decoded)\n",
    "    autoencoder.compile(optimizer = 'adam', loss = 'mean_squared_error', metrics = ['mse'])\n",
    "    \n",
    "    autoencoder.fit(X, X, epochs = 100, batch_size = 256, shuffle = True)\n",
    "    \n",
    "    # Making a model using the encoder part\n",
    "    model = Sequential() \n",
    "    model.add(autoencoder.layers[0]) \n",
    "    model.add(autoencoder.layers[1]) \n",
    "    model.add(autoencoder.layers[2]) \n",
    "    model.add(autoencoder.layers[3])\n",
    "\n",
    "    return model"
   ]
  },
  {
   "cell_type": "code",
   "execution_count": 2,
   "id": "a3546285",
   "metadata": {},
   "outputs": [],
   "source": [
    "#Load a single file as a numpy array\n",
    "def load_file(filepath):\n",
    "    data = np.load(filepath)\n",
    "    return data"
   ]
  },
  {
   "cell_type": "code",
   "execution_count": 5,
   "id": "bd1c596f",
   "metadata": {},
   "outputs": [],
   "source": [
    "#Load network data\n",
    "data1 = load_file(\"d1.npy\")\n",
    "data2 = load_file(\"d2.npy\")\n",
    "data3 = load_file(\"d28.npy\")\n",
    "data4 = load_file(\"d29.npy\")\n",
    "data5 = load_file(\"d30.npy\")\n",
    "data6 = load_file(\"d31.npy\")\n",
    "\n",
    "data1= np.delete(data1,[0, 1, 2, 3],2 )\n",
    "data2= np.delete(data2,[0, 1, 2, 3],2 )\n",
    "data3= np.delete(data3,[0, 1, 2, 3],2 )\n",
    "data4= np.delete(data4,[0, 1, 2, 3],2 )\n",
    "data5= np.delete(data5,[0, 1, 2, 3, 20],2 )\n",
    "data6= np.delete(data6,[0, 1, 2, 3, 20],2 )\n",
    "\n",
    "data = np.concatenate((data1, data2, data3, data4, data5, data6), axis = 0)\n",
    "data = np.reshape(data,(data.shape[0]*data.shape[1],data.shape[2]))\n",
    "\n",
    "df = pd.DataFrame(data)\n",
    "df.drop(13, axis = 1, inplace=True)\n",
    "\n",
    "labelencoder = LabelEncoder()\n",
    "df[0]= labelencoder.fit_transform(df[0])\n",
    "df[1]= labelencoder.fit_transform(df[1])\n",
    "df[2]= labelencoder.fit_transform(df[2])\n",
    "df[3]= labelencoder.fit_transform(df[3])\n",
    "df[4]= labelencoder.fit_transform(df[4])\n",
    "df[5]= labelencoder.fit_transform(df[5])\n",
    "df[6]= labelencoder.fit_transform(df[6])\n",
    "df[7]= labelencoder.fit_transform(df[7])\n",
    "df[8]= labelencoder.fit_transform(df[8])\n",
    "df[10]= labelencoder.fit_transform(df[10])\n",
    "df[12]= labelencoder.fit_transform(df[12])\n",
    "\n",
    "imputer = SimpleImputer(missing_values = np.NaN , strategy= 'mean') # Define the imputer with mean strategy\n",
    "df = imputer.fit_transform(df) # Fit the imputer on the training data and transfer it\n",
    "\n",
    "scaler = MinMaxScaler()\n",
    "df = scaler.fit_transform(df)\n",
    "\n",
    "data = np.reshape(df,(df.shape[0]//10,10,df.shape[1]))\n",
    "data_net = np.asarray(data).astype('float32')"
   ]
  },
  {
   "cell_type": "code",
   "execution_count": 33,
   "id": "ff6c1b94",
   "metadata": {},
   "outputs": [],
   "source": [
    "#Load sensor data\n",
    "data_swat1 = pd.read_csv(\"1.csv\")\n",
    "data_swat2 = pd.read_csv(\"2.csv\")\n",
    "data_swat3 = pd.read_csv(\"28.csv\")\n",
    "data_swat4 = pd.read_csv(\"29.csv\")\n",
    "data_swat5 = pd.read_csv(\"30.csv\")\n",
    "data_swat6 = pd.read_csv(\"31.csv\")\n",
    "f = [data_swat1,data_swat2,data_swat3,data_swat4,data_swat5,data_swat6]\n",
    "data_swat =pd.concat(f)\n",
    "data_swat = data_swat.sample(data_net.shape[0])\n",
    "\n",
    "y_swat = data_swat[\"Normal/Attack\"]\n",
    "data_swat = data_swat.drop(['Normal/Attack',' Timestamp'] , axis = 1)\n",
    "\n",
    "y_swat[y_swat=='Normal']=0\n",
    "y_swat[y_swat=='Attack']=1\n",
    "y_swat[y_swat=='A ttack']=1\n",
    "\n",
    "y_swat=np.array(y_swat)\n",
    "y_swat=y_swat.astype(\"int64\")\n",
    "\n",
    "# data_swat = data_swat.sample(data_net.shape[0])\n",
    "data_swat = np.array(data_swat)"
   ]
  },
  {
   "cell_type": "code",
   "execution_count": 34,
   "id": "9f0d9f47",
   "metadata": {},
   "outputs": [
    {
     "data": {
      "text/plain": [
       "(410422, 10, 16)"
      ]
     },
     "execution_count": 34,
     "metadata": {},
     "output_type": "execute_result"
    }
   ],
   "source": [
    "data_net.shape"
   ]
  },
  {
   "cell_type": "code",
   "execution_count": 35,
   "id": "0f7c4272",
   "metadata": {},
   "outputs": [
    {
     "data": {
      "text/plain": [
       "(410422, 51)"
      ]
     },
     "execution_count": 35,
     "metadata": {},
     "output_type": "execute_result"
    }
   ],
   "source": [
    "data_swat.shape"
   ]
  },
  {
   "cell_type": "code",
   "execution_count": 68,
   "id": "a60b6e81",
   "metadata": {},
   "outputs": [],
   "source": [
    "data = []\n",
    "for i in range(data_net.shape[0]):\n",
    "    data.append([data_net[i, :, :], data_swat[i, :]])"
   ]
  },
  {
   "cell_type": "code",
   "execution_count": 69,
   "id": "356bb0f4",
   "metadata": {},
   "outputs": [],
   "source": [
    "X_train, X_test, y_train, y_test = train_test_split(data, y_swat, stratify= y_swat, test_size= 0.2)"
   ]
  },
  {
   "cell_type": "code",
   "execution_count": 102,
   "id": "449c982d",
   "metadata": {},
   "outputs": [
    {
     "data": {
      "text/plain": [
       "328337"
      ]
     },
     "execution_count": 102,
     "metadata": {},
     "output_type": "execute_result"
    }
   ],
   "source": [
    "len(X_train)"
   ]
  },
  {
   "cell_type": "code",
   "execution_count": 106,
   "id": "4481668f",
   "metadata": {},
   "outputs": [],
   "source": [
    "X_train_net = []\n",
    "X_train_sen = []\n",
    "for i in range (len(X_train)):\n",
    "    X_train_net.append(X_train[i][0])\n",
    "    X_train_sen.append(X_train[i][1])\n",
    "    \n",
    "X_test_net = []\n",
    "X_test_sen = []\n",
    "for i in range(len(X_test)):\n",
    "    X_test_net.append(X_test[i][0])\n",
    "    X_test_sen.append(X_test[i][1])"
   ]
  },
  {
   "cell_type": "code",
   "execution_count": 109,
   "id": "650098bf",
   "metadata": {},
   "outputs": [],
   "source": [
    "X_train_net = np.array(X_train_net)\n",
    "X_test_net = np.array(X_test_net)\n",
    "X_train_sen = np.array(X_train_sen)\n",
    "X_test_sen = np.array(X_test_sen)"
   ]
  },
  {
   "cell_type": "code",
   "execution_count": 110,
   "id": "de73e4ef",
   "metadata": {},
   "outputs": [
    {
     "name": "stdout",
     "output_type": "stream",
     "text": [
      "(328337, 10, 16)\n",
      "(82085, 10, 16)\n",
      "(328337, 51)\n",
      "(82085, 51)\n"
     ]
    }
   ],
   "source": [
    "print(X_train_net.shape)\n",
    "print(X_test_net.shape)\n",
    "print(X_train_sen.shape)\n",
    "print(X_test_sen.shape)"
   ]
  },
  {
   "cell_type": "code",
   "execution_count": 87,
   "id": "bb1022c8",
   "metadata": {},
   "outputs": [],
   "source": [
    "y_train_oh = to_categorical(y_train, num_classes= 2)  \n",
    "y_test_oh = to_categorical(y_test, num_classes= 2)"
   ]
  },
  {
   "cell_type": "code",
   "execution_count": 112,
   "id": "fa240d8e",
   "metadata": {},
   "outputs": [
    {
     "name": "stdout",
     "output_type": "stream",
     "text": [
      "Model: \"model_3\"\n",
      "__________________________________________________________________________________________________\n",
      " Layer (type)                   Output Shape         Param #     Connected to                     \n",
      "==================================================================================================\n",
      " Network (InputLayer)           [(None, 10, 16)]     0           []                               \n",
      "                                                                                                  \n",
      " Sensor (InputLayer)            [(None, 51)]         0           []                               \n",
      "                                                                                                  \n",
      " lstm_6 (LSTM)                  (None, 10, 1024)     4263936     ['Network[0][0]']                \n",
      "                                                                                                  \n",
      " dense_35 (Dense)               (None, 512)          26624       ['Sensor[0][0]']                 \n",
      "                                                                                                  \n",
      " lstm_7 (LSTM)                  (None, 256)          1311744     ['lstm_6[0][0]']                 \n",
      "                                                                                                  \n",
      " dense_36 (Dense)               (None, 128)          65664       ['dense_35[0][0]']               \n",
      "                                                                                                  \n",
      " dense_39 (Dense)               (None, 512)          131584      ['lstm_7[0][0]']                 \n",
      "                                                                                                  \n",
      " dense_37 (Dense)               (None, 256)          33024       ['dense_36[0][0]']               \n",
      "                                                                                                  \n",
      " dense_40 (Dense)               (None, 64)           32832       ['dense_39[0][0]']               \n",
      "                                                                                                  \n",
      " dense_38 (Dense)               (None, 32)           8224        ['dense_37[0][0]']               \n",
      "                                                                                                  \n",
      " dense_41 (Dense)               (None, 32)           2080        ['dense_40[0][0]']               \n",
      "                                                                                                  \n",
      " concatenate_3 (Concatenate)    (None, 64)           0           ['dense_38[0][0]',               \n",
      "                                                                  'dense_41[0][0]']               \n",
      "                                                                                                  \n",
      " dense_42 (Dense)               (None, 32)           2080        ['concatenate_3[0][0]']          \n",
      "                                                                                                  \n",
      " dense_43 (Dense)               (None, 2)            66          ['dense_42[0][0]']               \n",
      "                                                                                                  \n",
      "==================================================================================================\n",
      "Total params: 5,877,858\n",
      "Trainable params: 5,877,858\n",
      "Non-trainable params: 0\n",
      "__________________________________________________________________________________________________\n"
     ]
    }
   ],
   "source": [
    "sens_inp = layers.Input(shape = (X_train_sen.shape[1]), name = \"Sensor\")\n",
    "x = layers.Dense(512, activation = 'relu')(sens_inp)\n",
    "x = layers.Dense(128, activation= 'relu')(x)\n",
    "x = layers.Dense(256, activation = 'relu')(x)\n",
    "sens_out = layers.Dense(32, activation = 'relu')(x)\n",
    "\n",
    "net_inp = layers.Input(shape = (X_train_net.shape[1], X_train_net.shape[2]), name = \"Network\")\n",
    "x = layers.LSTM(1024, return_sequences= True)(net_inp)\n",
    "x = layers.LSTM(256)(x)\n",
    "x = layers.Dense(512, activation = 'relu')(x)\n",
    "x = layers.Dense(64, activation = 'relu')(x)\n",
    "net_out = layers.Dense(32, activation= 'relu')(x)\n",
    "\n",
    "x = layers.concatenate([sens_out, net_out])\n",
    "x = layers.Dense(32, activation = 'relu')(x)\n",
    "\n",
    "out = layers.Dense(2, activation = 'softmax')(x)\n",
    "\n",
    "model = Model(inputs = [net_inp, sens_inp], outputs = out)\n",
    "\n",
    "model.summary()\n"
   ]
  },
  {
   "cell_type": "code",
   "execution_count": 114,
   "id": "62e3567a",
   "metadata": {},
   "outputs": [
    {
     "name": "stdout",
     "output_type": "stream",
     "text": [
      "Epoch 1/2\n",
      " 94/642 [===>..........................] - ETA: 8:46 - loss: 0.5079 - accuracy: 0.9422"
     ]
    },
    {
     "ename": "KeyboardInterrupt",
     "evalue": "",
     "output_type": "error",
     "traceback": [
      "\u001b[1;31m---------------------------------------------------------------------------\u001b[0m",
      "\u001b[1;31mKeyboardInterrupt\u001b[0m                         Traceback (most recent call last)",
      "Input \u001b[1;32mIn [114]\u001b[0m, in \u001b[0;36m<cell line: 2>\u001b[1;34m()\u001b[0m\n\u001b[0;32m      1\u001b[0m model\u001b[38;5;241m.\u001b[39mcompile(optimizer\u001b[38;5;241m=\u001b[39m \u001b[38;5;124m'\u001b[39m\u001b[38;5;124madam\u001b[39m\u001b[38;5;124m'\u001b[39m, loss \u001b[38;5;241m=\u001b[39m \u001b[38;5;124m'\u001b[39m\u001b[38;5;124mbinary_crossentropy\u001b[39m\u001b[38;5;124m'\u001b[39m, metrics \u001b[38;5;241m=\u001b[39m [\u001b[38;5;124m'\u001b[39m\u001b[38;5;124maccuracy\u001b[39m\u001b[38;5;124m'\u001b[39m])\n\u001b[1;32m----> 2\u001b[0m \u001b[43mmodel\u001b[49m\u001b[38;5;241;43m.\u001b[39;49m\u001b[43mfit\u001b[49m\u001b[43m(\u001b[49m\u001b[43m[\u001b[49m\u001b[43mX_train_net\u001b[49m\u001b[43m,\u001b[49m\u001b[43m \u001b[49m\u001b[43mX_train_sen\u001b[49m\u001b[43m]\u001b[49m\u001b[43m,\u001b[49m\u001b[43m \u001b[49m\u001b[43my_train_oh\u001b[49m\u001b[43m,\u001b[49m\u001b[43m \u001b[49m\u001b[43mepochs\u001b[49m\u001b[38;5;241;43m=\u001b[39;49m\u001b[43m \u001b[49m\u001b[38;5;241;43m2\u001b[39;49m\u001b[43m,\u001b[49m\u001b[43m \u001b[49m\u001b[43mbatch_size\u001b[49m\u001b[43m \u001b[49m\u001b[38;5;241;43m=\u001b[39;49m\u001b[43m \u001b[49m\u001b[38;5;241;43m512\u001b[39;49m\u001b[43m,\u001b[49m\u001b[43m \u001b[49m\u001b[43mvalidation_data\u001b[49m\u001b[38;5;241;43m=\u001b[39;49m\u001b[43m(\u001b[49m\u001b[43mX_test\u001b[49m\u001b[43m,\u001b[49m\u001b[43m \u001b[49m\u001b[43my_test_oh\u001b[49m\u001b[43m)\u001b[49m\u001b[43m)\u001b[49m\n",
      "File \u001b[1;32m~\\anaconda3\\lib\\site-packages\\keras\\utils\\traceback_utils.py:65\u001b[0m, in \u001b[0;36mfilter_traceback.<locals>.error_handler\u001b[1;34m(*args, **kwargs)\u001b[0m\n\u001b[0;32m     63\u001b[0m filtered_tb \u001b[38;5;241m=\u001b[39m \u001b[38;5;28;01mNone\u001b[39;00m\n\u001b[0;32m     64\u001b[0m \u001b[38;5;28;01mtry\u001b[39;00m:\n\u001b[1;32m---> 65\u001b[0m     \u001b[38;5;28;01mreturn\u001b[39;00m fn(\u001b[38;5;241m*\u001b[39margs, \u001b[38;5;241m*\u001b[39m\u001b[38;5;241m*\u001b[39mkwargs)\n\u001b[0;32m     66\u001b[0m \u001b[38;5;28;01mexcept\u001b[39;00m \u001b[38;5;167;01mException\u001b[39;00m \u001b[38;5;28;01mas\u001b[39;00m e:\n\u001b[0;32m     67\u001b[0m     filtered_tb \u001b[38;5;241m=\u001b[39m _process_traceback_frames(e\u001b[38;5;241m.\u001b[39m__traceback__)\n",
      "File \u001b[1;32m~\\anaconda3\\lib\\site-packages\\keras\\engine\\training.py:1564\u001b[0m, in \u001b[0;36mModel.fit\u001b[1;34m(self, x, y, batch_size, epochs, verbose, callbacks, validation_split, validation_data, shuffle, class_weight, sample_weight, initial_epoch, steps_per_epoch, validation_steps, validation_batch_size, validation_freq, max_queue_size, workers, use_multiprocessing)\u001b[0m\n\u001b[0;32m   1556\u001b[0m \u001b[38;5;28;01mwith\u001b[39;00m tf\u001b[38;5;241m.\u001b[39mprofiler\u001b[38;5;241m.\u001b[39mexperimental\u001b[38;5;241m.\u001b[39mTrace(\n\u001b[0;32m   1557\u001b[0m     \u001b[38;5;124m\"\u001b[39m\u001b[38;5;124mtrain\u001b[39m\u001b[38;5;124m\"\u001b[39m,\n\u001b[0;32m   1558\u001b[0m     epoch_num\u001b[38;5;241m=\u001b[39mepoch,\n\u001b[1;32m   (...)\u001b[0m\n\u001b[0;32m   1561\u001b[0m     _r\u001b[38;5;241m=\u001b[39m\u001b[38;5;241m1\u001b[39m,\n\u001b[0;32m   1562\u001b[0m ):\n\u001b[0;32m   1563\u001b[0m     callbacks\u001b[38;5;241m.\u001b[39mon_train_batch_begin(step)\n\u001b[1;32m-> 1564\u001b[0m     tmp_logs \u001b[38;5;241m=\u001b[39m \u001b[38;5;28;43mself\u001b[39;49m\u001b[38;5;241;43m.\u001b[39;49m\u001b[43mtrain_function\u001b[49m\u001b[43m(\u001b[49m\u001b[43miterator\u001b[49m\u001b[43m)\u001b[49m\n\u001b[0;32m   1565\u001b[0m     \u001b[38;5;28;01mif\u001b[39;00m data_handler\u001b[38;5;241m.\u001b[39mshould_sync:\n\u001b[0;32m   1566\u001b[0m         context\u001b[38;5;241m.\u001b[39masync_wait()\n",
      "File \u001b[1;32m~\\anaconda3\\lib\\site-packages\\tensorflow\\python\\util\\traceback_utils.py:150\u001b[0m, in \u001b[0;36mfilter_traceback.<locals>.error_handler\u001b[1;34m(*args, **kwargs)\u001b[0m\n\u001b[0;32m    148\u001b[0m filtered_tb \u001b[38;5;241m=\u001b[39m \u001b[38;5;28;01mNone\u001b[39;00m\n\u001b[0;32m    149\u001b[0m \u001b[38;5;28;01mtry\u001b[39;00m:\n\u001b[1;32m--> 150\u001b[0m   \u001b[38;5;28;01mreturn\u001b[39;00m fn(\u001b[38;5;241m*\u001b[39margs, \u001b[38;5;241m*\u001b[39m\u001b[38;5;241m*\u001b[39mkwargs)\n\u001b[0;32m    151\u001b[0m \u001b[38;5;28;01mexcept\u001b[39;00m \u001b[38;5;167;01mException\u001b[39;00m \u001b[38;5;28;01mas\u001b[39;00m e:\n\u001b[0;32m    152\u001b[0m   filtered_tb \u001b[38;5;241m=\u001b[39m _process_traceback_frames(e\u001b[38;5;241m.\u001b[39m__traceback__)\n",
      "File \u001b[1;32m~\\anaconda3\\lib\\site-packages\\tensorflow\\python\\eager\\def_function.py:915\u001b[0m, in \u001b[0;36mFunction.__call__\u001b[1;34m(self, *args, **kwds)\u001b[0m\n\u001b[0;32m    912\u001b[0m compiler \u001b[38;5;241m=\u001b[39m \u001b[38;5;124m\"\u001b[39m\u001b[38;5;124mxla\u001b[39m\u001b[38;5;124m\"\u001b[39m \u001b[38;5;28;01mif\u001b[39;00m \u001b[38;5;28mself\u001b[39m\u001b[38;5;241m.\u001b[39m_jit_compile \u001b[38;5;28;01melse\u001b[39;00m \u001b[38;5;124m\"\u001b[39m\u001b[38;5;124mnonXla\u001b[39m\u001b[38;5;124m\"\u001b[39m\n\u001b[0;32m    914\u001b[0m \u001b[38;5;28;01mwith\u001b[39;00m OptionalXlaContext(\u001b[38;5;28mself\u001b[39m\u001b[38;5;241m.\u001b[39m_jit_compile):\n\u001b[1;32m--> 915\u001b[0m   result \u001b[38;5;241m=\u001b[39m \u001b[38;5;28mself\u001b[39m\u001b[38;5;241m.\u001b[39m_call(\u001b[38;5;241m*\u001b[39margs, \u001b[38;5;241m*\u001b[39m\u001b[38;5;241m*\u001b[39mkwds)\n\u001b[0;32m    917\u001b[0m new_tracing_count \u001b[38;5;241m=\u001b[39m \u001b[38;5;28mself\u001b[39m\u001b[38;5;241m.\u001b[39mexperimental_get_tracing_count()\n\u001b[0;32m    918\u001b[0m without_tracing \u001b[38;5;241m=\u001b[39m (tracing_count \u001b[38;5;241m==\u001b[39m new_tracing_count)\n",
      "File \u001b[1;32m~\\anaconda3\\lib\\site-packages\\tensorflow\\python\\eager\\def_function.py:947\u001b[0m, in \u001b[0;36mFunction._call\u001b[1;34m(self, *args, **kwds)\u001b[0m\n\u001b[0;32m    944\u001b[0m   \u001b[38;5;28mself\u001b[39m\u001b[38;5;241m.\u001b[39m_lock\u001b[38;5;241m.\u001b[39mrelease()\n\u001b[0;32m    945\u001b[0m   \u001b[38;5;66;03m# In this case we have created variables on the first call, so we run the\u001b[39;00m\n\u001b[0;32m    946\u001b[0m   \u001b[38;5;66;03m# defunned version which is guaranteed to never create variables.\u001b[39;00m\n\u001b[1;32m--> 947\u001b[0m   \u001b[38;5;28;01mreturn\u001b[39;00m \u001b[38;5;28mself\u001b[39m\u001b[38;5;241m.\u001b[39m_stateless_fn(\u001b[38;5;241m*\u001b[39margs, \u001b[38;5;241m*\u001b[39m\u001b[38;5;241m*\u001b[39mkwds)  \u001b[38;5;66;03m# pylint: disable=not-callable\u001b[39;00m\n\u001b[0;32m    948\u001b[0m \u001b[38;5;28;01melif\u001b[39;00m \u001b[38;5;28mself\u001b[39m\u001b[38;5;241m.\u001b[39m_stateful_fn \u001b[38;5;129;01mis\u001b[39;00m \u001b[38;5;129;01mnot\u001b[39;00m \u001b[38;5;28;01mNone\u001b[39;00m:\n\u001b[0;32m    949\u001b[0m   \u001b[38;5;66;03m# Release the lock early so that multiple threads can perform the call\u001b[39;00m\n\u001b[0;32m    950\u001b[0m   \u001b[38;5;66;03m# in parallel.\u001b[39;00m\n\u001b[0;32m    951\u001b[0m   \u001b[38;5;28mself\u001b[39m\u001b[38;5;241m.\u001b[39m_lock\u001b[38;5;241m.\u001b[39mrelease()\n",
      "File \u001b[1;32m~\\anaconda3\\lib\\site-packages\\tensorflow\\python\\eager\\function.py:2496\u001b[0m, in \u001b[0;36mFunction.__call__\u001b[1;34m(self, *args, **kwargs)\u001b[0m\n\u001b[0;32m   2493\u001b[0m \u001b[38;5;28;01mwith\u001b[39;00m \u001b[38;5;28mself\u001b[39m\u001b[38;5;241m.\u001b[39m_lock:\n\u001b[0;32m   2494\u001b[0m   (graph_function,\n\u001b[0;32m   2495\u001b[0m    filtered_flat_args) \u001b[38;5;241m=\u001b[39m \u001b[38;5;28mself\u001b[39m\u001b[38;5;241m.\u001b[39m_maybe_define_function(args, kwargs)\n\u001b[1;32m-> 2496\u001b[0m \u001b[38;5;28;01mreturn\u001b[39;00m \u001b[43mgraph_function\u001b[49m\u001b[38;5;241;43m.\u001b[39;49m\u001b[43m_call_flat\u001b[49m\u001b[43m(\u001b[49m\n\u001b[0;32m   2497\u001b[0m \u001b[43m    \u001b[49m\u001b[43mfiltered_flat_args\u001b[49m\u001b[43m,\u001b[49m\u001b[43m \u001b[49m\u001b[43mcaptured_inputs\u001b[49m\u001b[38;5;241;43m=\u001b[39;49m\u001b[43mgraph_function\u001b[49m\u001b[38;5;241;43m.\u001b[39;49m\u001b[43mcaptured_inputs\u001b[49m\u001b[43m)\u001b[49m\n",
      "File \u001b[1;32m~\\anaconda3\\lib\\site-packages\\tensorflow\\python\\eager\\function.py:1862\u001b[0m, in \u001b[0;36mConcreteFunction._call_flat\u001b[1;34m(self, args, captured_inputs, cancellation_manager)\u001b[0m\n\u001b[0;32m   1858\u001b[0m possible_gradient_type \u001b[38;5;241m=\u001b[39m gradients_util\u001b[38;5;241m.\u001b[39mPossibleTapeGradientTypes(args)\n\u001b[0;32m   1859\u001b[0m \u001b[38;5;28;01mif\u001b[39;00m (possible_gradient_type \u001b[38;5;241m==\u001b[39m gradients_util\u001b[38;5;241m.\u001b[39mPOSSIBLE_GRADIENT_TYPES_NONE\n\u001b[0;32m   1860\u001b[0m     \u001b[38;5;129;01mand\u001b[39;00m executing_eagerly):\n\u001b[0;32m   1861\u001b[0m   \u001b[38;5;66;03m# No tape is watching; skip to running the function.\u001b[39;00m\n\u001b[1;32m-> 1862\u001b[0m   \u001b[38;5;28;01mreturn\u001b[39;00m \u001b[38;5;28mself\u001b[39m\u001b[38;5;241m.\u001b[39m_build_call_outputs(\u001b[38;5;28;43mself\u001b[39;49m\u001b[38;5;241;43m.\u001b[39;49m\u001b[43m_inference_function\u001b[49m\u001b[38;5;241;43m.\u001b[39;49m\u001b[43mcall\u001b[49m\u001b[43m(\u001b[49m\n\u001b[0;32m   1863\u001b[0m \u001b[43m      \u001b[49m\u001b[43mctx\u001b[49m\u001b[43m,\u001b[49m\u001b[43m \u001b[49m\u001b[43margs\u001b[49m\u001b[43m,\u001b[49m\u001b[43m \u001b[49m\u001b[43mcancellation_manager\u001b[49m\u001b[38;5;241;43m=\u001b[39;49m\u001b[43mcancellation_manager\u001b[49m\u001b[43m)\u001b[49m)\n\u001b[0;32m   1864\u001b[0m forward_backward \u001b[38;5;241m=\u001b[39m \u001b[38;5;28mself\u001b[39m\u001b[38;5;241m.\u001b[39m_select_forward_and_backward_functions(\n\u001b[0;32m   1865\u001b[0m     args,\n\u001b[0;32m   1866\u001b[0m     possible_gradient_type,\n\u001b[0;32m   1867\u001b[0m     executing_eagerly)\n\u001b[0;32m   1868\u001b[0m forward_function, args_with_tangents \u001b[38;5;241m=\u001b[39m forward_backward\u001b[38;5;241m.\u001b[39mforward()\n",
      "File \u001b[1;32m~\\anaconda3\\lib\\site-packages\\tensorflow\\python\\eager\\function.py:499\u001b[0m, in \u001b[0;36m_EagerDefinedFunction.call\u001b[1;34m(self, ctx, args, cancellation_manager)\u001b[0m\n\u001b[0;32m    497\u001b[0m \u001b[38;5;28;01mwith\u001b[39;00m _InterpolateFunctionError(\u001b[38;5;28mself\u001b[39m):\n\u001b[0;32m    498\u001b[0m   \u001b[38;5;28;01mif\u001b[39;00m cancellation_manager \u001b[38;5;129;01mis\u001b[39;00m \u001b[38;5;28;01mNone\u001b[39;00m:\n\u001b[1;32m--> 499\u001b[0m     outputs \u001b[38;5;241m=\u001b[39m \u001b[43mexecute\u001b[49m\u001b[38;5;241;43m.\u001b[39;49m\u001b[43mexecute\u001b[49m\u001b[43m(\u001b[49m\n\u001b[0;32m    500\u001b[0m \u001b[43m        \u001b[49m\u001b[38;5;28;43mstr\u001b[39;49m\u001b[43m(\u001b[49m\u001b[38;5;28;43mself\u001b[39;49m\u001b[38;5;241;43m.\u001b[39;49m\u001b[43msignature\u001b[49m\u001b[38;5;241;43m.\u001b[39;49m\u001b[43mname\u001b[49m\u001b[43m)\u001b[49m\u001b[43m,\u001b[49m\n\u001b[0;32m    501\u001b[0m \u001b[43m        \u001b[49m\u001b[43mnum_outputs\u001b[49m\u001b[38;5;241;43m=\u001b[39;49m\u001b[38;5;28;43mself\u001b[39;49m\u001b[38;5;241;43m.\u001b[39;49m\u001b[43m_num_outputs\u001b[49m\u001b[43m,\u001b[49m\n\u001b[0;32m    502\u001b[0m \u001b[43m        \u001b[49m\u001b[43minputs\u001b[49m\u001b[38;5;241;43m=\u001b[39;49m\u001b[43margs\u001b[49m\u001b[43m,\u001b[49m\n\u001b[0;32m    503\u001b[0m \u001b[43m        \u001b[49m\u001b[43mattrs\u001b[49m\u001b[38;5;241;43m=\u001b[39;49m\u001b[43mattrs\u001b[49m\u001b[43m,\u001b[49m\n\u001b[0;32m    504\u001b[0m \u001b[43m        \u001b[49m\u001b[43mctx\u001b[49m\u001b[38;5;241;43m=\u001b[39;49m\u001b[43mctx\u001b[49m\u001b[43m)\u001b[49m\n\u001b[0;32m    505\u001b[0m   \u001b[38;5;28;01melse\u001b[39;00m:\n\u001b[0;32m    506\u001b[0m     outputs \u001b[38;5;241m=\u001b[39m execute\u001b[38;5;241m.\u001b[39mexecute_with_cancellation(\n\u001b[0;32m    507\u001b[0m         \u001b[38;5;28mstr\u001b[39m(\u001b[38;5;28mself\u001b[39m\u001b[38;5;241m.\u001b[39msignature\u001b[38;5;241m.\u001b[39mname),\n\u001b[0;32m    508\u001b[0m         num_outputs\u001b[38;5;241m=\u001b[39m\u001b[38;5;28mself\u001b[39m\u001b[38;5;241m.\u001b[39m_num_outputs,\n\u001b[1;32m   (...)\u001b[0m\n\u001b[0;32m    511\u001b[0m         ctx\u001b[38;5;241m=\u001b[39mctx,\n\u001b[0;32m    512\u001b[0m         cancellation_manager\u001b[38;5;241m=\u001b[39mcancellation_manager)\n",
      "File \u001b[1;32m~\\anaconda3\\lib\\site-packages\\tensorflow\\python\\eager\\execute.py:54\u001b[0m, in \u001b[0;36mquick_execute\u001b[1;34m(op_name, num_outputs, inputs, attrs, ctx, name)\u001b[0m\n\u001b[0;32m     52\u001b[0m \u001b[38;5;28;01mtry\u001b[39;00m:\n\u001b[0;32m     53\u001b[0m   ctx\u001b[38;5;241m.\u001b[39mensure_initialized()\n\u001b[1;32m---> 54\u001b[0m   tensors \u001b[38;5;241m=\u001b[39m \u001b[43mpywrap_tfe\u001b[49m\u001b[38;5;241;43m.\u001b[39;49m\u001b[43mTFE_Py_Execute\u001b[49m\u001b[43m(\u001b[49m\u001b[43mctx\u001b[49m\u001b[38;5;241;43m.\u001b[39;49m\u001b[43m_handle\u001b[49m\u001b[43m,\u001b[49m\u001b[43m \u001b[49m\u001b[43mdevice_name\u001b[49m\u001b[43m,\u001b[49m\u001b[43m \u001b[49m\u001b[43mop_name\u001b[49m\u001b[43m,\u001b[49m\n\u001b[0;32m     55\u001b[0m \u001b[43m                                      \u001b[49m\u001b[43minputs\u001b[49m\u001b[43m,\u001b[49m\u001b[43m \u001b[49m\u001b[43mattrs\u001b[49m\u001b[43m,\u001b[49m\u001b[43m \u001b[49m\u001b[43mnum_outputs\u001b[49m\u001b[43m)\u001b[49m\n\u001b[0;32m     56\u001b[0m \u001b[38;5;28;01mexcept\u001b[39;00m core\u001b[38;5;241m.\u001b[39m_NotOkStatusException \u001b[38;5;28;01mas\u001b[39;00m e:\n\u001b[0;32m     57\u001b[0m   \u001b[38;5;28;01mif\u001b[39;00m name \u001b[38;5;129;01mis\u001b[39;00m \u001b[38;5;129;01mnot\u001b[39;00m \u001b[38;5;28;01mNone\u001b[39;00m:\n",
      "\u001b[1;31mKeyboardInterrupt\u001b[0m: "
     ]
    }
   ],
   "source": [
    "model.compile(optimizer= 'adam', loss = 'binary_crossentropy', metrics = ['accuracy'])\n",
    "model.fit([X_train_net, X_train_sen], y_train_oh, epochs= 2, batch_size = 512, validation_data=(X_test, y_test_oh))"
   ]
  },
  {
   "cell_type": "code",
   "execution_count": null,
   "id": "d54462ed",
   "metadata": {},
   "outputs": [],
   "source": []
  }
 ],
 "metadata": {
  "kernelspec": {
   "display_name": "Python 3 (ipykernel)",
   "language": "python",
   "name": "python3"
  },
  "language_info": {
   "codemirror_mode": {
    "name": "ipython",
    "version": 3
   },
   "file_extension": ".py",
   "mimetype": "text/x-python",
   "name": "python",
   "nbconvert_exporter": "python",
   "pygments_lexer": "ipython3",
   "version": "3.9.12"
  }
 },
 "nbformat": 4,
 "nbformat_minor": 5
}
